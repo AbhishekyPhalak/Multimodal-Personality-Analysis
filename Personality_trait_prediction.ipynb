{
  "cells": [
    {
      "cell_type": "code",
      "execution_count": null,
      "metadata": {
        "id": "L7PJGhCxErxz"
      },
      "outputs": [],
      "source": [
        "By %config IPCompleter.greedy=True"
      ]
    },
    {
      "cell_type": "code",
      "execution_count": null,
      "metadata": {
        "id": "LbrZD1ARErx1"
      },
      "outputs": [],
      "source": [
        "import librosa\n",
        "import librosa.display\n",
        "import numpy as np\n",
        "import pandas as pd\n",
        "import ffmpeg as ff\n",
        "import os\n",
        "from typing import List, Tuple, Dict\n",
        "import matplotlib.pyplot as plt\n",
        "import random\n",
        "import cv2\n",
        "import pickle0\n",
        "import datetime"
      ]
    },
    {
      "cell_type": "code",
      "execution_count": null,
      "metadata": {
        "id": "JkDESIxnErx2"
      },
      "outputs": [],
      "source": []
    },
    {
      "cell_type": "code",
      "execution_count": null,
      "metadata": {
        "id": "ga1z2EfeErx2"
      },
      "outputs": [],
      "source": [
        "def extract_audio_from_video(file_path: str) -> np.ndarray:\n",
        "    inputfile = ff.input(file_path)\n",
        "    out = inputfile.output('-', format='f32le', acodec='pcm_f32le', ac=1, ar='44100')\n",
        "    raw = out.run(capture_stdout=True)\n",
        "    del inputfile, out\n",
        "    return np.frombuffer(raw[0],np.float32)"
      ]
    },
    {
      "cell_type": "code",
      "execution_count": null,
      "metadata": {
        "id": "_F3CaEQ-Erx2"
      },
      "outputs": [],
      "source": [
        "def preprocess_audio_series(raw_data: np.ndarray) -> np.ndarray:\n",
        "    N, M = 24, 1319\n",
        "    mfcc_data = librosa.feature.mfcc(y=raw_data, n_mfcc=24)\n",
        "\n",
        "    #Getting spectral mean (centroid)\n",
        "    #mean = librosa.feature.spectral_centroid(result)\n",
        "\n",
        "    #Standardizing MFCC (zero mean and unit variance)\n",
        "    mfcc_data_standardized = (mfcc_data - np.mean(mfcc_data)) / np.std(mfcc_data)\n",
        "\n",
        "    # Use pre-padding (Note: with 0, which is also the mean after standardization) to unify the length of the samples.\n",
        "    number_of_columns_to_fill = M - mfcc_data_standardized.shape[1]\n",
        "    padding = np.zeros((N,number_of_columns_to_fill))\n",
        "\n",
        "    padded_data = np.hstack((padding, mfcc_data_standardized))\n",
        "\n",
        "    #Reshaping to N,M,1\n",
        "    return padded_data.reshape(N,M,1)"
      ]
    },
    {
      "cell_type": "code",
      "execution_count": null,
      "metadata": {
        "id": "qVJWSi-3Erx3"
      },
      "outputs": [],
      "source": [
        "def get_number_of_frames(file_path: str) -> int:\n",
        "    probe = ff.probe(filePath)\n",
        "    video_streams = [stream for stream in probe[\"streams\"] if stream[\"codec_type\"] == \"video\"]\n",
        "    #width = video_streams[0]['coded_width']\n",
        "    #height = video_streams[0]['coded_height']\n",
        "    del probe\n",
        "    return video_streams[0]['nb_frames']"
      ]
    },
    {
      "cell_type": "code",
      "execution_count": null,
      "metadata": {
        "id": "acL_WThnErx3"
      },
      "outputs": [],
      "source": [
        "def extract_N_video_frames(file_path: str, number_of_samples: int = 6) -> List[np.ndarray]:\n",
        "    nb_frames = int(get_number_of_frames(file_path= filePath))\n",
        "\n",
        "    video_frames = []\n",
        "    random_indexes = random.sample(range(0, nb_frames), number_of_samples)\n",
        "\n",
        "    cap = cv2.VideoCapture(filePath)\n",
        "    for ind in random_indexes:\n",
        "        cap.set(1,ind)\n",
        "        res, frame = cap.read()\n",
        "        video_frames.append(cv2.cvtColor(frame, cv2.COLOR_BGR2RGB))\n",
        "    cap.release()\n",
        "    del cap, random_indexes\n",
        "    return video_frames"
      ]
    },
    {
      "cell_type": "code",
      "execution_count": null,
      "metadata": {
        "id": "--YUohGBErx4"
      },
      "outputs": [],
      "source": [
        "def resize_image(image: np.ndarray, new_size: Tuple[int,int]) -> np.ndarray:\n",
        "    return cv2.resize(image, new_size, interpolation = cv2.INTER_AREA)"
      ]
    },
    {
      "cell_type": "code",
      "execution_count": null,
      "metadata": {
        "id": "5XtCqOl1Erx4"
      },
      "outputs": [],
      "source": [
        "def crop_image_window(image: np.ndarray, training: bool = True) -> np.ndarray:\n",
        "    height, width, _ = image.shape\n",
        "    if training:\n",
        "        MAX_N = height - 128\n",
        "        MAX_M = width - 128\n",
        "        rand_N_index, rand_M_index = random.randint(0, MAX_N) , random.randint(0, MAX_M)\n",
        "        return image[rand_N_index:(rand_N_index+128),rand_M_index:(rand_M_index+128),:]\n",
        "    else:\n",
        "        N_index = (height - 128) // 2\n",
        "        M_index = (width - 128) // 2\n",
        "        return image[N_index:(N_index+128),M_index:(M_index+128),:]"
      ]
    },
    {
      "cell_type": "code",
      "execution_count": null,
      "metadata": {
        "id": "ggelWWtFErx5"
      },
      "outputs": [],
      "source": [
        "def reading_label_data(file_name: str, dictionary: Dict[str,str]) -> np.ndarray:\n",
        "    features = ['extraversion', 'neuroticism', 'agreeableness', 'conscientiousness', 'openness']\n",
        "    extracted_data = [float(dictionary[label][file_name]) for label in features]\n",
        "    return np.stack(extracted_data).reshape(5,1)"
      ]
    },
    {
      "cell_type": "code",
      "execution_count": null,
      "metadata": {
        "id": "c572tTqBErx5"
      },
      "outputs": [],
      "source": [
        "def preprocessing_input(file_path: str, file_name: str, dictionary: Dict[str,str], training: bool = True) -> Tuple[np.ndarray,np.ndarray,np.ndarray]:\n",
        "    #Audio\n",
        "    extracted_audio_raw = extract_audio_from_video(file_path= filePath)\n",
        "    preprocessed_audio = preprocess_audio_series(raw_data= extracted_audio_raw)\n",
        "\n",
        "    #Video\n",
        "    sampled = extract_N_video_frames(file_path= filePath, number_of_samples= 6)\n",
        "    resized_images = [resize_image(image= im, new_size= (248,140)) for im in sampled]\n",
        "    cropped_images = [crop_image_window(image= resi,training= training) / 255.0 for resi in resized_images]\n",
        "    preprocessed_video = np.stack(cropped_images)\n",
        "\n",
        "    #Ground Truth\n",
        "    video_gt = reading_label_data(file_name= file_name, dictionary= dictionary)\n",
        "    del extracted_audio_raw, sampled, resized_images, cropped_images\n",
        "    return (preprocessed_audio, preprocessed_video, video_gt)"
      ]
    },
    {
      "cell_type": "markdown",
      "metadata": {
        "id": "uz5_ZpbWErx5"
      },
      "source": [
        "### Getting train set"
      ]
    },
    {
      "cell_type": "code",
      "execution_count": null,
      "metadata": {
        "scrolled": true,
        "id": "9kXHeA40Erx7",
        "outputId": "ef9a1c2f-da04-4a44-fd2a-9ee819ecf8c2"
      },
      "outputs": [
        {
          "name": "stdout",
          "output_type": "stream",
          "text": [
            "C:\\Users\\Piyush\\Downloads\\personality-trait-prediction-main\\src\\training80_13/0gv5Z0qt2jc.005.mp4\n",
            "C:\\Users\\Piyush\\Downloads\\personality-trait-prediction-main\\src\\training80_13/1wWMWbl6ILg.004.mp4\n",
            "C:\\Users\\Piyush\\Downloads\\personality-trait-prediction-main\\src\\training80_13/2bAsXLQjlt8.001.mp4\n",
            "C:\\Users\\Piyush\\Downloads\\personality-trait-prediction-main\\src\\training80_13/2OAA4slRc5M.004.mp4\n",
            "C:\\Users\\Piyush\\Downloads\\personality-trait-prediction-main\\src\\training80_13/38fE5B4ghw0.003.mp4\n",
            "C:\\Users\\Piyush\\Downloads\\personality-trait-prediction-main\\src\\training80_13/3OoQBXWTGfE.004.mp4\n",
            "C:\\Users\\Piyush\\Downloads\\personality-trait-prediction-main\\src\\training80_13/3VTL2kFt17M.004.mp4\n",
            "C:\\Users\\Piyush\\Downloads\\personality-trait-prediction-main\\src\\training80_13/3y3au0hVfm8.001.mp4\n",
            "C:\\Users\\Piyush\\Downloads\\personality-trait-prediction-main\\src\\training80_13/4XdZDodpzac.003.mp4\n",
            "C:\\Users\\Piyush\\Downloads\\personality-trait-prediction-main\\src\\training80_13/4ZlcaXadwlo.003.mp4\n",
            "C:\\Users\\Piyush\\Downloads\\personality-trait-prediction-main\\src\\training80_13/5VG1EgzvprE.000.mp4\n",
            "C:\\Users\\Piyush\\Downloads\\personality-trait-prediction-main\\src\\training80_13/7FXs86Z98E0.002.mp4\n",
            "C:\\Users\\Piyush\\Downloads\\personality-trait-prediction-main\\src\\training80_13/7IegDaeNlik.000.mp4\n",
            "C:\\Users\\Piyush\\Downloads\\personality-trait-prediction-main\\src\\training80_13/7tlMys6MZ34.005.mp4\n",
            "C:\\Users\\Piyush\\Downloads\\personality-trait-prediction-main\\src\\training80_13/8aPfoJiDeBY.004.mp4\n",
            "C:\\Users\\Piyush\\Downloads\\personality-trait-prediction-main\\src\\training80_13/9a-3LrB7cDI.004.mp4\n",
            "C:\\Users\\Piyush\\Downloads\\personality-trait-prediction-main\\src\\training80_13/9ydyJKZBWiA.005.mp4\n",
            "C:\\Users\\Piyush\\Downloads\\personality-trait-prediction-main\\src\\training80_13/a5NTqK367wo.000.mp4\n",
            "C:\\Users\\Piyush\\Downloads\\personality-trait-prediction-main\\src\\training80_13/ADa9rkwF2uA.000.mp4\n",
            "C:\\Users\\Piyush\\Downloads\\personality-trait-prediction-main\\src\\training80_13/b39BQbVhOAg.002.mp4\n",
            "C:\\Users\\Piyush\\Downloads\\personality-trait-prediction-main\\src\\training80_13/bnoPmV0_aIc.004.mp4\n",
            "C:\\Users\\Piyush\\Downloads\\personality-trait-prediction-main\\src\\training80_13/C5qRszPK9HY.003.mp4\n",
            "C:\\Users\\Piyush\\Downloads\\personality-trait-prediction-main\\src\\training80_13/CTWMisL_HlI.004.mp4\n",
            "C:\\Users\\Piyush\\Downloads\\personality-trait-prediction-main\\src\\training80_13/dB-kMg4t-V8.002.mp4\n",
            "C:\\Users\\Piyush\\Downloads\\personality-trait-prediction-main\\src\\training80_13/E3z1D7CKoOA.003.mp4\n",
            "C:\\Users\\Piyush\\Downloads\\personality-trait-prediction-main\\src\\training80_13/EaBCJB8LXdI.002.mp4\n",
            "C:\\Users\\Piyush\\Downloads\\personality-trait-prediction-main\\src\\training80_13/EeI8iXLDfc0.002.mp4\n",
            "C:\\Users\\Piyush\\Downloads\\personality-trait-prediction-main\\src\\training80_13/EL1Q7x_1a74.001.mp4\n",
            "C:\\Users\\Piyush\\Downloads\\personality-trait-prediction-main\\src\\training80_13/fY4tctYZTz8.003.mp4\n",
            "C:\\Users\\Piyush\\Downloads\\personality-trait-prediction-main\\src\\training80_13/g1TMjzZH8bw.004.mp4\n",
            "C:\\Users\\Piyush\\Downloads\\personality-trait-prediction-main\\src\\training80_13/GG9WPQLI_rg.004.mp4\n",
            "C:\\Users\\Piyush\\Downloads\\personality-trait-prediction-main\\src\\training80_13/Gl93Hw1A2kY.005.mp4\n",
            "C:\\Users\\Piyush\\Downloads\\personality-trait-prediction-main\\src\\training80_13/GR-P1m_Yvm0.000.mp4\n",
            "C:\\Users\\Piyush\\Downloads\\personality-trait-prediction-main\\src\\training80_13/HT_8WpgGqjk.004.mp4\n",
            "C:\\Users\\Piyush\\Downloads\\personality-trait-prediction-main\\src\\training80_13/HWuh0biZQ_c.000.mp4\n",
            "C:\\Users\\Piyush\\Downloads\\personality-trait-prediction-main\\src\\training80_13/j5fXaXrNPoA.000.mp4\n",
            "C:\\Users\\Piyush\\Downloads\\personality-trait-prediction-main\\src\\training80_13/JTmq4k4uQCY.003.mp4\n",
            "C:\\Users\\Piyush\\Downloads\\personality-trait-prediction-main\\src\\training80_13/KhMsmtSC5Lg.000.mp4\n",
            "C:\\Users\\Piyush\\Downloads\\personality-trait-prediction-main\\src\\training80_13/kN9cs2nFhM4.004.mp4\n",
            "C:\\Users\\Piyush\\Downloads\\personality-trait-prediction-main\\src\\training80_13/KO7ZGXwPu-Y.000.mp4\n",
            "C:\\Users\\Piyush\\Downloads\\personality-trait-prediction-main\\src\\training80_13/LtBYojIGYEc.001.mp4\n",
            "C:\\Users\\Piyush\\Downloads\\personality-trait-prediction-main\\src\\training80_13/lyznxF-Pj6g.001.mp4\n",
            "C:\\Users\\Piyush\\Downloads\\personality-trait-prediction-main\\src\\training80_13/lyZZSU1ziCQ.001.mp4\n",
            "C:\\Users\\Piyush\\Downloads\\personality-trait-prediction-main\\src\\training80_13/mfGhtr0zy3k.001.mp4\n",
            "C:\\Users\\Piyush\\Downloads\\personality-trait-prediction-main\\src\\training80_13/mqDv8688ztg.004.mp4\n",
            "C:\\Users\\Piyush\\Downloads\\personality-trait-prediction-main\\src\\training80_13/nLB29nx1Jp4.001.mp4\n",
            "C:\\Users\\Piyush\\Downloads\\personality-trait-prediction-main\\src\\training80_13/og8vtyRh_bc.001.mp4\n",
            "C:\\Users\\Piyush\\Downloads\\personality-trait-prediction-main\\src\\training80_13/OgPC4wnLJR0.003.mp4\n",
            "C:\\Users\\Piyush\\Downloads\\personality-trait-prediction-main\\src\\training80_13/oU7zAWm_01o.003.mp4\n",
            "C:\\Users\\Piyush\\Downloads\\personality-trait-prediction-main\\src\\training80_13/P0a209IS614.005.mp4\n",
            "C:\\Users\\Piyush\\Downloads\\personality-trait-prediction-main\\src\\training80_13/p7-JUvStF4w.005.mp4\n",
            "C:\\Users\\Piyush\\Downloads\\personality-trait-prediction-main\\src\\training80_13/PHUlL5ZzX5U.005.mp4\n",
            "C:\\Users\\Piyush\\Downloads\\personality-trait-prediction-main\\src\\training80_13/PuVy3akfzNI.000.mp4\n",
            "C:\\Users\\Piyush\\Downloads\\personality-trait-prediction-main\\src\\training80_13/qfL0ml0f84g.004.mp4\n",
            "C:\\Users\\Piyush\\Downloads\\personality-trait-prediction-main\\src\\training80_13/qkmEt0ofGq8.003.mp4\n",
            "C:\\Users\\Piyush\\Downloads\\personality-trait-prediction-main\\src\\training80_13/QlBgvZjbX30.000.mp4\n",
            "C:\\Users\\Piyush\\Downloads\\personality-trait-prediction-main\\src\\training80_13/rT0TqakPrAI.000.mp4\n",
            "C:\\Users\\Piyush\\Downloads\\personality-trait-prediction-main\\src\\training80_13/rUGAiuYHNgE.004.mp4\n",
            "C:\\Users\\Piyush\\Downloads\\personality-trait-prediction-main\\src\\training80_13/rxYWgXYTATs.005.mp4\n",
            "C:\\Users\\Piyush\\Downloads\\personality-trait-prediction-main\\src\\training80_13/Se3Gts4u1vs.000.mp4\n",
            "C:\\Users\\Piyush\\Downloads\\personality-trait-prediction-main\\src\\training80_13/SsoZjq7x4MA.004.mp4\n",
            "C:\\Users\\Piyush\\Downloads\\personality-trait-prediction-main\\src\\training80_13/T4eZ81aJwJI.000.mp4\n",
            "C:\\Users\\Piyush\\Downloads\\personality-trait-prediction-main\\src\\training80_13/Tad9Q9OFjJw.002.mp4\n",
            "C:\\Users\\Piyush\\Downloads\\personality-trait-prediction-main\\src\\training80_13/V7_h3URfSFY.000.mp4\n",
            "C:\\Users\\Piyush\\Downloads\\personality-trait-prediction-main\\src\\training80_13/Vd9biSOZ5CI.004.mp4\n",
            "C:\\Users\\Piyush\\Downloads\\personality-trait-prediction-main\\src\\training80_13/VIKk25Ozx40.000.mp4\n",
            "C:\\Users\\Piyush\\Downloads\\personality-trait-prediction-main\\src\\training80_13/VmV8NIvVVkw.000.mp4\n",
            "C:\\Users\\Piyush\\Downloads\\personality-trait-prediction-main\\src\\training80_13/vp9p1osOaLI.002.mp4\n",
            "C:\\Users\\Piyush\\Downloads\\personality-trait-prediction-main\\src\\training80_13/W2AB3UUyvwI.002.mp4\n",
            "C:\\Users\\Piyush\\Downloads\\personality-trait-prediction-main\\src\\training80_13/wuhoIm_jPc0.002.mp4\n",
            "C:\\Users\\Piyush\\Downloads\\personality-trait-prediction-main\\src\\training80_13/yOzHZOg95Ug.004.mp4\n",
            "C:\\Users\\Piyush\\Downloads\\personality-trait-prediction-main\\src\\training80_13/YuoLr4xDvbE.002.mp4\n",
            "C:\\Users\\Piyush\\Downloads\\personality-trait-prediction-main\\src\\training80_13/YzcZY1mUZfc.001.mp4\n",
            "C:\\Users\\Piyush\\Downloads\\personality-trait-prediction-main\\src\\training80_13/ZGox7tevC6A.004.mp4\n",
            "C:\\Users\\Piyush\\Downloads\\personality-trait-prediction-main\\src\\training80_13/ZhPQrqxo2mw.005.mp4\n",
            "C:\\Users\\Piyush\\Downloads\\personality-trait-prediction-main\\src\\training80_13/Znixev2a1AI.000.mp4\n",
            "C:\\Users\\Piyush\\Downloads\\personality-trait-prediction-main\\src\\training80_13/ZRl_k6DzTeI.004.mp4\n",
            "C:\\Users\\Piyush\\Downloads\\personality-trait-prediction-main\\src\\training80_13/z_W8_j7CB2A.000.mp4\n",
            "Elapsed time: 0:01:48.420026\n"
          ]
        }
      ],
      "source": [
        "training_set_data = []\n",
        "path = r'C:\\Users\\Piyush\\Downloads\\personality-trait-prediction-main\\src\\training80_13'\n",
        "gt = pickle.load( open( \"annotation_training.pkl\", \"rb\" ), encoding='latin1')\n",
        "t1 = datetime.datetime.utcnow()\n",
        "for filename in os.listdir(path):\n",
        "    filePath = path+'/'+filename\n",
        "    print(filePath)\n",
        "    training_set_data.append(preprocessing_input(file_path= filePath, file_name= filename, dictionary= gt, training= True))\n",
        "t2 = datetime.datetime.utcnow()\n",
        "#Measuring execution time\n",
        "print('Elapsed time: ' + str(t2-t1))"
      ]
    },
    {
      "cell_type": "code",
      "execution_count": null,
      "metadata": {
        "id": "XteRg7pqErx7"
      },
      "outputs": [],
      "source": [
        "savename = 'training_set.dat'\n",
        "with open(savename, \"wb\") as f:\n",
        "    pickle.dump(training_set_data, f)"
      ]
    },
    {
      "cell_type": "markdown",
      "metadata": {
        "id": "k6iUkuMcErx8"
      },
      "source": [
        "### Getting validation set"
      ]
    },
    {
      "cell_type": "code",
      "execution_count": null,
      "metadata": {
        "id": "l5ufzbcmErx8",
        "outputId": "a2fafb52-7d3e-490a-dae2-4a2e3359b7c5"
      },
      "outputs": [
        {
          "name": "stdout",
          "output_type": "stream",
          "text": [
            "Elapsed time: 0:01:51.068576\n"
          ]
        }
      ],
      "source": [
        "validation_set_data = []\n",
        "path = r'C:\\Users\\Piyush\\Downloads\\personality-trait-prediction-main\\src\\validation80_01'\n",
        "gt = pickle.load( open( \"annotation_validation.pkl\", \"rb\" ), encoding='latin1' )\n",
        "t1 = datetime.datetime.utcnow()\n",
        "for filename in os.listdir(path):\n",
        "    filePath = path+'/'+filename\n",
        "    validation_set_data.append(preprocessing_input(file_path= filePath, file_name= filename, dictionary= gt, training= False))\n",
        "t2 = datetime.datetime.utcnow()\n",
        "#Measuring execution time\n",
        "print('Elapsed time: ' + str(t2-t1))"
      ]
    },
    {
      "cell_type": "code",
      "execution_count": null,
      "metadata": {
        "id": "Ds0I4lK9Erx8"
      },
      "outputs": [],
      "source": [
        "savename = 'validation_set.dat'\n",
        "with open(savename, \"wb\") as f:\n",
        "    pickle.dump(validation_set_data, f)"
      ]
    },
    {
      "cell_type": "markdown",
      "metadata": {
        "id": "10m3AYhuErx9"
      },
      "source": [
        "### Getting test set"
      ]
    },
    {
      "cell_type": "code",
      "execution_count": null,
      "metadata": {
        "id": "A7uix2ZWErx9",
        "outputId": "6b3bc068-03c9-4acb-a7dc-45edcfb17de7"
      },
      "outputs": [
        {
          "name": "stdout",
          "output_type": "stream",
          "text": [
            "Elapsed time: 0:01:44.072904\n"
          ]
        }
      ],
      "source": [
        "test_set_data = []\n",
        "path = r'C:\\Users\\Piyush\\Downloads\\personality-trait-prediction-main\\src\\test80_13'\n",
        "gt = pickle.load( open( \"annotation_test.pkl\", \"rb\" ), encoding='latin1' )\n",
        "t1 = datetime.datetime.utcnow()\n",
        "for filename in os.listdir(path):\n",
        "    filePath = path+'/'+filename\n",
        "    test_set_data.append(preprocessing_input(file_path= filePath, file_name= filename, dictionary= gt, training= False))\n",
        "t2 = datetime.datetime.utcnow()\n",
        "#Measuring execution time\n",
        "print('Elapsed time: ' + str(t2-t1))"
      ]
    },
    {
      "cell_type": "code",
      "execution_count": null,
      "metadata": {
        "id": "8c1YTI3UErx9"
      },
      "outputs": [],
      "source": [
        "savename = 'test_set.dat'\n",
        "with open(savename, \"wb\") as f:\n",
        "    pickle.dump(test_set_data, f)"
      ]
    },
    {
      "cell_type": "markdown",
      "metadata": {
        "id": "AI2w47XFErx-"
      },
      "source": [
        "### Restarting kernel to free up memory, and then load data"
      ]
    },
    {
      "cell_type": "code",
      "execution_count": null,
      "metadata": {
        "id": "b4YMeeqXErx-"
      },
      "outputs": [],
      "source": [
        "import pickle\n",
        "\n",
        "with open('training_set.dat', \"rb\") as training_file:\n",
        "    train_set_data = pickle.load(training_file)"
      ]
    },
    {
      "cell_type": "code",
      "execution_count": null,
      "metadata": {
        "id": "jSG2IqDpErx-"
      },
      "outputs": [],
      "source": [
        "with open('validation_set.dat', \"rb\") as validation_file:\n",
        "    validation_set_data = pickle.load(validation_file)"
      ]
    },
    {
      "cell_type": "code",
      "execution_count": null,
      "metadata": {
        "id": "N29Uo9DyErx-"
      },
      "outputs": [],
      "source": [
        "with open('test_set.dat', \"rb\") as test_file:\n",
        "    test_set_data = pickle.load(test_file)"
      ]
    },
    {
      "cell_type": "code",
      "execution_count": null,
      "metadata": {
        "id": "6IeSyYYjErx_"
      },
      "outputs": [],
      "source": [
        "gt = pickle.load( open( \"annotation_training.pkl\", \"rb\" ), encoding='latin1' )\n",
        "neuroticism = list(gt['neuroticism'].values())\n",
        "extraversion = list(gt['extraversion'].values())\n",
        "agreeableness = list(gt['agreeableness'].values())\n",
        "conscientiousness = list(gt['conscientiousness'].values())\n",
        "openness = list(gt['openness'].values())\n",
        "\n",
        "df = pd.DataFrame({'neuroticism': neuroticism,'extraversion': extraversion,'agreeableness':agreeableness,'conscientiousness':conscientiousness,'openness':openness})\n",
        "# df.plot(kind='density',xlim=(0,1))"
      ]
    },
    {
      "cell_type": "markdown",
      "metadata": {
        "id": "MTc5Yi-iErx_"
      },
      "source": [
        "### Plotting number of samples in each set"
      ]
    },
    {
      "cell_type": "code",
      "execution_count": null,
      "metadata": {
        "id": "GuUGFkbhErx_",
        "outputId": "6299a9f2-2f07-43dd-95be-ecae88f3b259"
      },
      "outputs": [
        {
          "name": "stdout",
          "output_type": "stream",
          "text": [
            "78\n",
            "80\n",
            "80\n"
          ]
        }
      ],
      "source": [
        "print(len(train_set_data))\n",
        "print(len(validation_set_data))\n",
        "print(len(test_set_data))"
      ]
    },
    {
      "cell_type": "code",
      "execution_count": null,
      "metadata": {
        "id": "8R8SDahIEryA"
      },
      "outputs": [],
      "source": [
        "train_random_index = random.randint(0, len(train_set_data)-1)\n",
        "validation_random_index = random.randint(0, len(validation_set_data)-1)\n",
        "test_random_index = random.randint(0, len(test_set_data)-1)"
      ]
    },
    {
      "cell_type": "code",
      "execution_count": null,
      "metadata": {
        "id": "CHsPSpfrEryA"
      },
      "outputs": [],
      "source": [
        "shape = train_set_data[train_random_index][0].shape\n",
        "mfcc_train = train_set_data[train_random_index][0].reshape(shape[0],shape[1])\n",
        "\n",
        "shape = validation_set_data[validation_random_index][0].shape\n",
        "mfcc_validation = validation_set_data[validation_random_index][0].reshape(shape[0],shape[1])\n",
        "\n",
        "shape = test_set_data[test_random_index][0].shape\n",
        "mfcc_train = test_set_data[test_random_index][0].reshape(shape[0],shape[1])\n",
        "\n",
        "mfccs = [mfcc_train,mfcc_validation,mfcc_train]"
      ]
    },
    {
      "cell_type": "markdown",
      "metadata": {
        "id": "udOqINMUEryA"
      },
      "source": [
        "### Displaying 3 video samples from train,validation and test sets"
      ]
    },
    {
      "cell_type": "code",
      "execution_count": null,
      "metadata": {
        "id": "CQs40WjHEryA"
      },
      "outputs": [],
      "source": [
        "images_to_plot = []\n",
        "images_to_plot.extend([(train_set_data[train_random_index][1])[i,:,:,:] for i in range(0,6)])\n",
        "images_to_plot.extend([(validation_set_data[validation_random_index][1])[i,:,:,:] for i in range(0,6)])\n",
        "images_to_plot.extend([(test_set_data[test_random_index][1])[i,:,:,:] for i in range(0,6)])\n",
        "\n",
        "\n",
        "# plt.figure(figsize=(18,11))\n",
        "\n",
        "# for i in range(18):\n",
        "#     plt.subplot(3,6,i+1)\n",
        "#     plt.imshow(images_to_plot[i])\n",
        "# plt.show()"
      ]
    },
    {
      "cell_type": "markdown",
      "metadata": {
        "id": "c0KN4tlPEryB"
      },
      "source": [
        "### Displaying audio MFCC"
      ]
    },
    {
      "cell_type": "code",
      "execution_count": null,
      "metadata": {
        "id": "DZLtj4qvEryB"
      },
      "outputs": [],
      "source": [
        "# librosa.display.specshow(mfccs[0], x_axis='time', y_axis='mel')"
      ]
    },
    {
      "cell_type": "code",
      "execution_count": null,
      "metadata": {
        "id": "HFf_vMqWEryB"
      },
      "outputs": [],
      "source": [
        "# librosa.display.specshow(mfccs[1], x_axis='time', y_axis='mel')"
      ]
    },
    {
      "cell_type": "code",
      "execution_count": null,
      "metadata": {
        "id": "-AiFaD_5EryB"
      },
      "outputs": [],
      "source": [
        "# librosa.display.specshow(mfccs[2], x_axis='time', y_axis='mel')"
      ]
    },
    {
      "cell_type": "markdown",
      "metadata": {
        "id": "8gufLbIqEryB"
      },
      "source": [
        "### Printing personality traits"
      ]
    },
    {
      "cell_type": "code",
      "execution_count": null,
      "metadata": {
        "id": "ColBzWLxEryC"
      },
      "outputs": [],
      "source": [
        "personality_train = train_set_data[train_random_index][2]\n",
        "personality_validation = validation_set_data[validation_random_index][2]\n",
        "personality_test = test_set_data[test_random_index][2]\n",
        "personalities = ['Neuroticism','Extraversion','Agreeableness','Conscientiousness','Openness']"
      ]
    },
    {
      "cell_type": "markdown",
      "metadata": {
        "id": "f1yfiLSwEryC"
      },
      "source": [
        "#### Train"
      ]
    },
    {
      "cell_type": "code",
      "execution_count": null,
      "metadata": {
        "id": "OJSfuA-FEryC",
        "outputId": "b27c6b2f-ffbb-44b1-d612-06443f163ef2"
      },
      "outputs": [
        {
          "name": "stdout",
          "output_type": "stream",
          "text": [
            "Neuroticism: 0.37383177570093457\n",
            "Extraversion: 0.3020833333333333\n",
            "Agreeableness: 0.4175824175824176\n",
            "Conscientiousness: 0.31067961165048547\n",
            "Openness: 0.41111111111111115\n"
          ]
        }
      ],
      "source": [
        "for label, value in zip(personalities,personality_train):\n",
        "    print(label + ': ' + str(value[0]))"
      ]
    },
    {
      "cell_type": "markdown",
      "metadata": {
        "id": "qyzrXygjEryC"
      },
      "source": [
        "#### Validation"
      ]
    },
    {
      "cell_type": "code",
      "execution_count": null,
      "metadata": {
        "id": "fkY2x8AeEryD",
        "outputId": "3d1838a9-d861-47ee-f168-5dd904675134"
      },
      "outputs": [
        {
          "name": "stdout",
          "output_type": "stream",
          "text": [
            "Neuroticism: 0.4953271028037384\n",
            "Extraversion: 0.625\n",
            "Agreeableness: 0.5604395604395604\n",
            "Conscientiousness: 0.6407766990291262\n",
            "Openness: 0.7777777777777777\n"
          ]
        }
      ],
      "source": [
        "for label, value in zip(personalities,personality_validation):\n",
        "    print(label + ': ' + str(value[0]))"
      ]
    },
    {
      "cell_type": "markdown",
      "metadata": {
        "id": "5Z7v2iSgEryD"
      },
      "source": [
        "#### Test"
      ]
    },
    {
      "cell_type": "code",
      "execution_count": null,
      "metadata": {
        "id": "tr9V6ymCEryD",
        "outputId": "e27b504f-232b-4ff6-ac91-dba853d16d7d"
      },
      "outputs": [
        {
          "name": "stdout",
          "output_type": "stream",
          "text": [
            "Neuroticism: 0.4018691588785047\n",
            "Extraversion: 0.37499999999999994\n",
            "Agreeableness: 0.3956043956043956\n",
            "Conscientiousness: 0.3300970873786408\n",
            "Openness: 0.4666666666666667\n"
          ]
        }
      ],
      "source": [
        "for label, value in zip(personalities,personality_test):\n",
        "    print(label + ': ' + str(value[0]))"
      ]
    },
    {
      "cell_type": "markdown",
      "metadata": {
        "id": "hCnuRMSEEryD"
      },
      "source": [
        "### Converting sets to model format"
      ]
    },
    {
      "cell_type": "code",
      "execution_count": null,
      "metadata": {
        "id": "bP432tHEEryD"
      },
      "outputs": [],
      "source": [
        "def reshape_to_expected_input(dataset: List[Tuple[np.ndarray,np.ndarray,np.ndarray]]) -> Tuple[np.ndarray,np.ndarray,np.ndarray]:\n",
        "\n",
        "    x0_list = []\n",
        "    x1_list = []\n",
        "    y_list = []\n",
        "    for i in range(0,len(dataset)):\n",
        "        x0_list.append(dataset[i][0])\n",
        "        x1_list.append(dataset[i][1])\n",
        "        y_list.append(dataset[i][2])\n",
        "    return (np.stack(x0_list),np.stack(x1_list),np.stack(y_list))"
      ]
    },
    {
      "cell_type": "code",
      "execution_count": null,
      "metadata": {
        "id": "SGZm4P8rEryE"
      },
      "outputs": [],
      "source": [
        "train_input = reshape_to_expected_input(dataset= train_set_data)\n",
        "del train_set_data\n",
        "validation_input = reshape_to_expected_input(dataset= validation_set_data)\n",
        "del validation_set_data\n",
        "test_input = reshape_to_expected_input(dataset= test_set_data)\n",
        "del test_set_data"
      ]
    },
    {
      "cell_type": "markdown",
      "metadata": {
        "id": "XPA5f_UwEryE"
      },
      "source": [
        "## Creating Model"
      ]
    },
    {
      "cell_type": "code",
      "execution_count": null,
      "metadata": {
        "id": "BNsl1AjPEryE"
      },
      "outputs": [],
      "source": [
        "from tensorflow.keras.models import Sequential, Model\n",
        "from tensorflow.keras.layers import Dense, Flatten, Input, LSTM, Bidirectional, Lambda, Dropout, Concatenate\n",
        "from tensorflow.keras.layers import Conv2D, MaxPooling2D\n",
        "from tensorflow.keras.layers import BatchNormalization\n",
        "from tensorflow.keras.layers import TimeDistributed"
      ]
    },
    {
      "cell_type": "markdown",
      "metadata": {
        "id": "ewyOoBk1EryE"
      },
      "source": [
        "### Audio subnetwork"
      ]
    },
    {
      "cell_type": "code",
      "execution_count": null,
      "metadata": {
        "id": "pqFAOLyHEryF"
      },
      "outputs": [],
      "source": [
        "audio_input = Input(shape=(24,1319,1))\n",
        "audio_model = Conv2D(32, kernel_size=(3,3),activation='relu')(audio_input)\n",
        "audio_model = BatchNormalization()(audio_model)\n",
        "audio_model = MaxPooling2D(pool_size=(2, 2))(audio_model)\n",
        "audio_model = Conv2D(32, kernel_size=(3,3),activation='relu')(audio_model)\n",
        "audio_model = BatchNormalization()(audio_model)\n",
        "audio_model = MaxPooling2D(pool_size=(2, 2))(audio_model)\n",
        "audio_model = Flatten()(audio_model)\n",
        "audio_model = Dense(128, activation='relu')(audio_model)\n",
        "audio_subnetwork = Model(inputs=audio_input,outputs=audio_model)"
      ]
    },
    {
      "cell_type": "markdown",
      "metadata": {
        "id": "XFYxvTIHEryF"
      },
      "source": [
        "### Visual subnetwork"
      ]
    },
    {
      "cell_type": "code",
      "execution_count": null,
      "metadata": {
        "id": "wl6bnOqHEryF"
      },
      "outputs": [],
      "source": [
        "from keras.applications import vgg16"
      ]
    },
    {
      "cell_type": "code",
      "execution_count": null,
      "metadata": {
        "id": "2LflLhffEryF",
        "outputId": "ae12b526-bff6-4031-e7c7-68e09670715a"
      },
      "outputs": [
        {
          "name": "stdout",
          "output_type": "stream",
          "text": [
            "Downloading data from https://storage.googleapis.com/tensorflow/keras-applications/vgg16/vgg16_weights_tf_dim_ordering_tf_kernels_notop.h5\n",
            "58892288/58889256 [==============================] - 4s 0us/step\n",
            "58900480/58889256 [==============================] - 4s 0us/step\n"
          ]
        }
      ],
      "source": [
        "visual_model = Input(shape=(6,128,128,3))\n",
        "\n",
        "cnn = vgg16.VGG16(weights=\"imagenet\", include_top=False, pooling='max')\n",
        "cnn.trainable = False"
      ]
    },
    {
      "cell_type": "code",
      "execution_count": null,
      "metadata": {
        "id": "L949NqbhEryF",
        "outputId": "a1e7314b-3d47-4c5e-8b78-de050af33cc3"
      },
      "outputs": [
        {
          "name": "stdout",
          "output_type": "stream",
          "text": [
            "WARNING:tensorflow:\n",
            "The following Variables were used a Lambda layer's call (lambda), but\n",
            "are not present in its tracked objects:\n",
            "  <tf.Variable 'block1_conv1/kernel:0' shape=(3, 3, 3, 64) dtype=float32>\n",
            "  <tf.Variable 'block1_conv1/bias:0' shape=(64,) dtype=float32>\n",
            "  <tf.Variable 'block1_conv2/kernel:0' shape=(3, 3, 64, 64) dtype=float32>\n",
            "  <tf.Variable 'block1_conv2/bias:0' shape=(64,) dtype=float32>\n",
            "  <tf.Variable 'block2_conv1/kernel:0' shape=(3, 3, 64, 128) dtype=float32>\n",
            "  <tf.Variable 'block2_conv1/bias:0' shape=(128,) dtype=float32>\n",
            "  <tf.Variable 'block2_conv2/kernel:0' shape=(3, 3, 128, 128) dtype=float32>\n",
            "  <tf.Variable 'block2_conv2/bias:0' shape=(128,) dtype=float32>\n",
            "  <tf.Variable 'block3_conv1/kernel:0' shape=(3, 3, 128, 256) dtype=float32>\n",
            "  <tf.Variable 'block3_conv1/bias:0' shape=(256,) dtype=float32>\n",
            "  <tf.Variable 'block3_conv2/kernel:0' shape=(3, 3, 256, 256) dtype=float32>\n",
            "  <tf.Variable 'block3_conv2/bias:0' shape=(256,) dtype=float32>\n",
            "  <tf.Variable 'block3_conv3/kernel:0' shape=(3, 3, 256, 256) dtype=float32>\n",
            "  <tf.Variable 'block3_conv3/bias:0' shape=(256,) dtype=float32>\n",
            "  <tf.Variable 'block4_conv1/kernel:0' shape=(3, 3, 256, 512) dtype=float32>\n",
            "  <tf.Variable 'block4_conv1/bias:0' shape=(512,) dtype=float32>\n",
            "  <tf.Variable 'block4_conv2/kernel:0' shape=(3, 3, 512, 512) dtype=float32>\n",
            "  <tf.Variable 'block4_conv2/bias:0' shape=(512,) dtype=float32>\n",
            "  <tf.Variable 'block4_conv3/kernel:0' shape=(3, 3, 512, 512) dtype=float32>\n",
            "  <tf.Variable 'block4_conv3/bias:0' shape=(512,) dtype=float32>\n",
            "  <tf.Variable 'block5_conv1/kernel:0' shape=(3, 3, 512, 512) dtype=float32>\n",
            "  <tf.Variable 'block5_conv1/bias:0' shape=(512,) dtype=float32>\n",
            "  <tf.Variable 'block5_conv2/kernel:0' shape=(3, 3, 512, 512) dtype=float32>\n",
            "  <tf.Variable 'block5_conv2/bias:0' shape=(512,) dtype=float32>\n",
            "  <tf.Variable 'block5_conv3/kernel:0' shape=(3, 3, 512, 512) dtype=float32>\n",
            "  <tf.Variable 'block5_conv3/bias:0' shape=(512,) dtype=float32>\n",
            "It is possible that this is intended behavior, but it is more likely\n",
            "an omission. This is a strong indication that this layer should be\n",
            "formulated as a subclassed Layer rather than a Lambda layer.\n"
          ]
        }
      ],
      "source": [
        "encoded_frame = TimeDistributed(Lambda(lambda x: cnn(x)))(visual_model)\n",
        "encoded_vid = LSTM(64)(encoded_frame)\n",
        "\n",
        "visual_subnetwork = Model(inputs=visual_model,outputs=encoded_vid)"
      ]
    },
    {
      "cell_type": "code",
      "execution_count": null,
      "metadata": {
        "id": "ZPCKgFgzEryF"
      },
      "outputs": [],
      "source": [
        "combined = Concatenate()([audio_subnetwork.output, visual_subnetwork.output])\n",
        "final1 = Dense(256, activation='relu')(combined)\n",
        "final2 = Dense(5, activation='linear')(final1)"
      ]
    },
    {
      "cell_type": "code",
      "execution_count": null,
      "metadata": {
        "id": "OvwxKGojEryG",
        "outputId": "6e5c6ace-4770-4d6a-dd16-823725cfcc36"
      },
      "outputs": [
        {
          "name": "stdout",
          "output_type": "stream",
          "text": [
            "Model: \"model_2\"\n",
            "__________________________________________________________________________________________________\n",
            " Layer (type)                   Output Shape         Param #     Connected to                     \n",
            "==================================================================================================\n",
            " input_1 (InputLayer)           [(None, 24, 1319, 1  0           []                               \n",
            "                                )]                                                                \n",
            "                                                                                                  \n",
            " conv2d (Conv2D)                (None, 22, 1317, 32  320         ['input_1[0][0]']                \n",
            "                                )                                                                 \n",
            "                                                                                                  \n",
            " batch_normalization (BatchNorm  (None, 22, 1317, 32  128        ['conv2d[0][0]']                 \n",
            " alization)                     )                                                                 \n",
            "                                                                                                  \n",
            " max_pooling2d (MaxPooling2D)   (None, 11, 658, 32)  0           ['batch_normalization[0][0]']    \n",
            "                                                                                                  \n",
            " conv2d_1 (Conv2D)              (None, 9, 656, 32)   9248        ['max_pooling2d[0][0]']          \n",
            "                                                                                                  \n",
            " batch_normalization_1 (BatchNo  (None, 9, 656, 32)  128         ['conv2d_1[0][0]']               \n",
            " rmalization)                                                                                     \n",
            "                                                                                                  \n",
            " max_pooling2d_1 (MaxPooling2D)  (None, 4, 328, 32)  0           ['batch_normalization_1[0][0]']  \n",
            "                                                                                                  \n",
            " input_2 (InputLayer)           [(None, 6, 128, 128  0           []                               \n",
            "                                , 3)]                                                             \n",
            "                                                                                                  \n",
            " flatten (Flatten)              (None, 41984)        0           ['max_pooling2d_1[0][0]']        \n",
            "                                                                                                  \n",
            " time_distributed (TimeDistribu  (None, 6, 512)      0           ['input_2[0][0]']                \n",
            " ted)                                                                                             \n",
            "                                                                                                  \n",
            " dense (Dense)                  (None, 128)          5374080     ['flatten[0][0]']                \n",
            "                                                                                                  \n",
            " lstm (LSTM)                    (None, 64)           147712      ['time_distributed[0][0]']       \n",
            "                                                                                                  \n",
            " concatenate (Concatenate)      (None, 192)          0           ['dense[0][0]',                  \n",
            "                                                                  'lstm[0][0]']                   \n",
            "                                                                                                  \n",
            " dense_1 (Dense)                (None, 256)          49408       ['concatenate[0][0]']            \n",
            "                                                                                                  \n",
            " dense_2 (Dense)                (None, 5)            1285        ['dense_1[0][0]']                \n",
            "                                                                                                  \n",
            "==================================================================================================\n",
            "Total params: 5,582,309\n",
            "Trainable params: 5,582,181\n",
            "Non-trainable params: 128\n",
            "__________________________________________________________________________________________________\n"
          ]
        }
      ],
      "source": [
        "combined_network = Model(inputs=[audio_input, visual_model], outputs=final2)\n",
        "combined_network.summary()"
      ]
    },
    {
      "cell_type": "code",
      "execution_count": null,
      "metadata": {
        "id": "rJjCnsVxEryG"
      },
      "outputs": [],
      "source": [
        "combined_network.compile(optimizer = 'adam',loss = 'mean_absolute_error',metrics=['mae'])"
      ]
    },
    {
      "cell_type": "markdown",
      "metadata": {
        "id": "y4L9ydz_EryG"
      },
      "source": [
        "### Training"
      ]
    },
    {
      "cell_type": "code",
      "execution_count": null,
      "metadata": {
        "id": "hFTwArDvEryG"
      },
      "outputs": [],
      "source": [
        "from keras.callbacks import EarlyStopping\n",
        "\n",
        "early_stopping = EarlyStopping(patience=10)"
      ]
    },
    {
      "cell_type": "code",
      "execution_count": null,
      "metadata": {
        "id": "GnAQRY0CEryG",
        "outputId": "b809a7ad-63fc-4e15-9962-d87c9ea16dba"
      },
      "outputs": [
        {
          "name": "stdout",
          "output_type": "stream",
          "text": [
            "Epoch 1/20\n",
            "3/3 [==============================] - 109s 41s/step - loss: 13.4403 - mae: 13.4403 - val_loss: 0.5258 - val_mae: 0.5258\n",
            "Epoch 2/20\n",
            "3/3 [==============================] - 108s 43s/step - loss: 7.3332 - mae: 7.3332 - val_loss: 0.5665 - val_mae: 0.5665\n",
            "Epoch 3/20\n",
            "3/3 [==============================] - 110s 43s/step - loss: 4.3133 - mae: 4.3133 - val_loss: 0.5225 - val_mae: 0.5225\n",
            "Epoch 4/20\n",
            "3/3 [==============================] - 109s 43s/step - loss: 1.8091 - mae: 1.8091 - val_loss: 0.4974 - val_mae: 0.4974\n",
            "Epoch 5/20\n",
            "3/3 [==============================] - 110s 44s/step - loss: 1.3524 - mae: 1.3524 - val_loss: 0.5375 - val_mae: 0.5375\n",
            "Epoch 6/20\n",
            "3/3 [==============================] - 111s 44s/step - loss: 0.9052 - mae: 0.9052 - val_loss: 0.4592 - val_mae: 0.4592\n",
            "Epoch 7/20\n",
            "3/3 [==============================] - 111s 44s/step - loss: 0.7060 - mae: 0.7060 - val_loss: 0.4783 - val_mae: 0.4783\n",
            "Epoch 8/20\n",
            "3/3 [==============================] - 110s 43s/step - loss: 0.6230 - mae: 0.6230 - val_loss: 0.4482 - val_mae: 0.4482\n",
            "Epoch 9/20\n",
            "3/3 [==============================] - 110s 44s/step - loss: 0.5637 - mae: 0.5637 - val_loss: 0.4787 - val_mae: 0.4787\n",
            "Epoch 10/20\n",
            "3/3 [==============================] - 109s 43s/step - loss: 0.4526 - mae: 0.4526 - val_loss: 0.4854 - val_mae: 0.4854\n",
            "Epoch 11/20\n",
            "3/3 [==============================] - 107s 42s/step - loss: 0.3908 - mae: 0.3908 - val_loss: 0.4696 - val_mae: 0.4696\n",
            "Epoch 12/20\n",
            "3/3 [==============================] - 109s 43s/step - loss: 0.3409 - mae: 0.3409 - val_loss: 0.4499 - val_mae: 0.4499\n",
            "Epoch 13/20\n",
            "3/3 [==============================] - 120s 48s/step - loss: 0.2663 - mae: 0.2663 - val_loss: 0.4262 - val_mae: 0.4262\n",
            "Epoch 14/20\n",
            "3/3 [==============================] - 111s 44s/step - loss: 0.2665 - mae: 0.2665 - val_loss: 0.4075 - val_mae: 0.4075\n",
            "Epoch 15/20\n",
            "3/3 [==============================] - 109s 43s/step - loss: 0.2754 - mae: 0.2754 - val_loss: 0.4189 - val_mae: 0.4189\n",
            "Epoch 16/20\n",
            "3/3 [==============================] - 109s 43s/step - loss: 0.2456 - mae: 0.2456 - val_loss: 0.4561 - val_mae: 0.4561\n",
            "Epoch 17/20\n",
            "3/3 [==============================] - 109s 43s/step - loss: 0.2234 - mae: 0.2234 - val_loss: 0.5876 - val_mae: 0.5876\n",
            "Epoch 18/20\n",
            "3/3 [==============================] - 110s 43s/step - loss: 0.1715 - mae: 0.1715 - val_loss: 0.7632 - val_mae: 0.7632\n",
            "Epoch 19/20\n",
            "3/3 [==============================] - 109s 43s/step - loss: 0.1818 - mae: 0.1818 - val_loss: 0.9433 - val_mae: 0.9433\n",
            "Epoch 20/20\n",
            "3/3 [==============================] - 108s 43s/step - loss: 0.1840 - mae: 0.1840 - val_loss: 1.1473 - val_mae: 1.1473\n"
          ]
        }
      ],
      "source": [
        "history = combined_network.fit(x = [train_input[0],train_input[1]],\n",
        "                               y = train_input[2],\n",
        "                               validation_data = ([validation_input[0],validation_input[1]],validation_input[2]),\n",
        "                               epochs = 20,\n",
        "                               verbose = 1,\n",
        "                               callbacks = [early_stopping])"
      ]
    },
    {
      "cell_type": "code",
      "execution_count": null,
      "metadata": {
        "id": "JBhxjIHAEryH",
        "outputId": "51fe68d4-b2a2-45d1-aaf0-ab45a11b58f2"
      },
      "outputs": [
        {
          "data": {
            "text/plain": [
              "<matplotlib.legend.Legend at 0x2ebb7d0b9a0>"
            ]
          },
          "execution_count": 29,
          "metadata": {},
          "output_type": "execute_result"
        },
        {
          "data": {
            "image/png": "[encoded data removed]",
            "text/plain": [
              "<Figure size 648x288 with 1 Axes>"
            ]
          },
          "metadata": {
            "needs_background": "light"
          },
          "output_type": "display_data"
        },
        {
          "ename": "AttributeError",
          "evalue": "module 'matplotlib' has no attribute 'pyplot'",
          "output_type": "error",
          "traceback": [
            "\u001b[1;31m---------------------------------------------------------------------------\u001b[0m",
            "\u001b[1;31mAttributeError\u001b[0m                            Traceback (most recent call last)",
            "\u001b[1;32mc:\\users\\piyush\\appdata\\local\\programs\\python\\python39\\lib\\site-packages\\matplotlib_inline\\backend_inline.py\u001b[0m in \u001b[0;36mshow\u001b[1;34m(close, block)\u001b[0m\n\u001b[0;32m     48\u001b[0m         \u001b[1;31m# close triggers gc.collect, which can be slow\u001b[0m\u001b[1;33m\u001b[0m\u001b[1;33m\u001b[0m\u001b[1;33m\u001b[0m\u001b[0m\n\u001b[0;32m     49\u001b[0m         \u001b[1;32mif\u001b[0m \u001b[0mclose\u001b[0m \u001b[1;32mand\u001b[0m \u001b[0mGcf\u001b[0m\u001b[1;33m.\u001b[0m\u001b[0mget_all_fig_managers\u001b[0m\u001b[1;33m(\u001b[0m\u001b[1;33m)\u001b[0m\u001b[1;33m:\u001b[0m\u001b[1;33m\u001b[0m\u001b[1;33m\u001b[0m\u001b[0m\n\u001b[1;32m---> 50\u001b[1;33m             \u001b[0mmatplotlib\u001b[0m\u001b[1;33m.\u001b[0m\u001b[0mpyplot\u001b[0m\u001b[1;33m.\u001b[0m\u001b[0mclose\u001b[0m\u001b[1;33m(\u001b[0m\u001b[1;34m'all'\u001b[0m\u001b[1;33m)\u001b[0m\u001b[1;33m\u001b[0m\u001b[1;33m\u001b[0m\u001b[0m\n\u001b[0m\u001b[0;32m     51\u001b[0m \u001b[1;33m\u001b[0m\u001b[0m\n\u001b[0;32m     52\u001b[0m \u001b[1;33m\u001b[0m\u001b[0m\n",
            "\u001b[1;31mAttributeError\u001b[0m: module 'matplotlib' has no attribute 'pyplot'"
          ]
        }
      ],
      "source": [
        "plt.figure(figsize=(9,4))\n",
        "\n",
        "plt.subplot(1,2,1)\n",
        "plt.plot(history.history['mae'])\n",
        "plt.plot(history.history['val_mae'])\n",
        "plt.title('Model MAE')\n",
        "plt.ylabel('MAE')\n",
        "plt.xlabel('Epoch')\n",
        "plt.legend(['Train MAE', 'Validation MAE'], loc='upper right')"
      ]
    },
    {
      "cell_type": "markdown",
      "metadata": {
        "id": "j5Xze7-TEryH"
      },
      "source": [
        "#### Evaluate model on train set"
      ]
    },
    {
      "cell_type": "code",
      "execution_count": null,
      "metadata": {
        "id": "2NhnexWnEryH",
        "outputId": "4dd302f7-7438-407d-dacd-ad69f938c223"
      },
      "outputs": [
        {
          "name": "stdout",
          "output_type": "stream",
          "text": [
            "Test loss: 1.1902574300765991\n"
          ]
        },
        {
          "data": {
            "image/png": "[encoded data removed]",
            "text/plain": [
              "<Figure size 648x288 with 1 Axes>"
            ]
          },
          "metadata": {
            "needs_background": "light"
          },
          "output_type": "display_data"
        },
        {
          "ename": "AttributeError",
          "evalue": "module 'matplotlib' has no attribute 'pyplot'",
          "output_type": "error",
          "traceback": [
            "\u001b[1;31m---------------------------------------------------------------------------\u001b[0m",
            "\u001b[1;31mAttributeError\u001b[0m                            Traceback (most recent call last)",
            "\u001b[1;32mc:\\users\\piyush\\appdata\\local\\programs\\python\\python39\\lib\\site-packages\\matplotlib_inline\\backend_inline.py\u001b[0m in \u001b[0;36mshow\u001b[1;34m(close, block)\u001b[0m\n\u001b[0;32m     48\u001b[0m         \u001b[1;31m# close triggers gc.collect, which can be slow\u001b[0m\u001b[1;33m\u001b[0m\u001b[1;33m\u001b[0m\u001b[1;33m\u001b[0m\u001b[0m\n\u001b[0;32m     49\u001b[0m         \u001b[1;32mif\u001b[0m \u001b[0mclose\u001b[0m \u001b[1;32mand\u001b[0m \u001b[0mGcf\u001b[0m\u001b[1;33m.\u001b[0m\u001b[0mget_all_fig_managers\u001b[0m\u001b[1;33m(\u001b[0m\u001b[1;33m)\u001b[0m\u001b[1;33m:\u001b[0m\u001b[1;33m\u001b[0m\u001b[1;33m\u001b[0m\u001b[0m\n\u001b[1;32m---> 50\u001b[1;33m             \u001b[0mmatplotlib\u001b[0m\u001b[1;33m.\u001b[0m\u001b[0mpyplot\u001b[0m\u001b[1;33m.\u001b[0m\u001b[0mclose\u001b[0m\u001b[1;33m(\u001b[0m\u001b[1;34m'all'\u001b[0m\u001b[1;33m)\u001b[0m\u001b[1;33m\u001b[0m\u001b[1;33m\u001b[0m\u001b[0m\n\u001b[0m\u001b[0;32m     51\u001b[0m \u001b[1;33m\u001b[0m\u001b[0m\n\u001b[0;32m     52\u001b[0m \u001b[1;33m\u001b[0m\u001b[0m\n",
            "\u001b[1;31mAttributeError\u001b[0m: module 'matplotlib' has no attribute 'pyplot'"
          ]
        }
      ],
      "source": [
        "loss, mae = combined_network.evaluate([test_input[0],test_input[1]],test_input[2], verbose=0)\n",
        "\n",
        "print('Test loss: {}'.format(loss))"
      ]
    },
    {
      "cell_type": "markdown",
      "metadata": {
        "id": "VHDbTwUOEryH"
      },
      "source": [
        "### 1-MAE"
      ]
    },
    {
      "cell_type": "code",
      "execution_count": null,
      "metadata": {
        "id": "Q6ZPFy3XEryI",
        "outputId": "0e4bd28a-d8db-4877-a9c0-aa9769495c24"
      },
      "outputs": [
        {
          "name": "stdout",
          "output_type": "stream",
          "text": [
            "1-MAE: -0.19025743007659912\n"
          ]
        },
        {
          "data": {
            "image/png": "[encoded data removed]",
            "text/plain": [
              "<Figure size 648x288 with 1 Axes>"
            ]
          },
          "metadata": {
            "needs_background": "light"
          },
          "output_type": "display_data"
        },
        {
          "ename": "AttributeError",
          "evalue": "module 'matplotlib' has no attribute 'pyplot'",
          "output_type": "error",
          "traceback": [
            "\u001b[1;31m---------------------------------------------------------------------------\u001b[0m",
            "\u001b[1;31mAttributeError\u001b[0m                            Traceback (most recent call last)",
            "\u001b[1;32mc:\\users\\piyush\\appdata\\local\\programs\\python\\python39\\lib\\site-packages\\matplotlib_inline\\backend_inline.py\u001b[0m in \u001b[0;36mshow\u001b[1;34m(close, block)\u001b[0m\n\u001b[0;32m     48\u001b[0m         \u001b[1;31m# close triggers gc.collect, which can be slow\u001b[0m\u001b[1;33m\u001b[0m\u001b[1;33m\u001b[0m\u001b[1;33m\u001b[0m\u001b[0m\n\u001b[0;32m     49\u001b[0m         \u001b[1;32mif\u001b[0m \u001b[0mclose\u001b[0m \u001b[1;32mand\u001b[0m \u001b[0mGcf\u001b[0m\u001b[1;33m.\u001b[0m\u001b[0mget_all_fig_managers\u001b[0m\u001b[1;33m(\u001b[0m\u001b[1;33m)\u001b[0m\u001b[1;33m:\u001b[0m\u001b[1;33m\u001b[0m\u001b[1;33m\u001b[0m\u001b[0m\n\u001b[1;32m---> 50\u001b[1;33m             \u001b[0mmatplotlib\u001b[0m\u001b[1;33m.\u001b[0m\u001b[0mpyplot\u001b[0m\u001b[1;33m.\u001b[0m\u001b[0mclose\u001b[0m\u001b[1;33m(\u001b[0m\u001b[1;34m'all'\u001b[0m\u001b[1;33m)\u001b[0m\u001b[1;33m\u001b[0m\u001b[1;33m\u001b[0m\u001b[0m\n\u001b[0m\u001b[0;32m     51\u001b[0m \u001b[1;33m\u001b[0m\u001b[0m\n\u001b[0;32m     52\u001b[0m \u001b[1;33m\u001b[0m\u001b[0m\n",
            "\u001b[1;31mAttributeError\u001b[0m: module 'matplotlib' has no attribute 'pyplot'"
          ]
        }
      ],
      "source": [
        "print('1-MAE: ' + str(1-mae))"
      ]
    },
    {
      "cell_type": "code",
      "execution_count": null,
      "metadata": {
        "id": "Yl7PeJctEryI",
        "outputId": "d3074e93-b7d5-43f7-9894-38706e195643"
      },
      "outputs": [
        {
          "data": {
            "image/png": "[encoded data removed]",
            "text/plain": [
              "<Figure size 648x288 with 1 Axes>"
            ]
          },
          "metadata": {
            "needs_background": "light"
          },
          "output_type": "display_data"
        },
        {
          "ename": "AttributeError",
          "evalue": "module 'matplotlib' has no attribute 'pyplot'",
          "output_type": "error",
          "traceback": [
            "\u001b[1;31m---------------------------------------------------------------------------\u001b[0m",
            "\u001b[1;31mAttributeError\u001b[0m                            Traceback (most recent call last)",
            "\u001b[1;32mc:\\users\\piyush\\appdata\\local\\programs\\python\\python39\\lib\\site-packages\\matplotlib_inline\\backend_inline.py\u001b[0m in \u001b[0;36mshow\u001b[1;34m(close, block)\u001b[0m\n\u001b[0;32m     48\u001b[0m         \u001b[1;31m# close triggers gc.collect, which can be slow\u001b[0m\u001b[1;33m\u001b[0m\u001b[1;33m\u001b[0m\u001b[1;33m\u001b[0m\u001b[0m\n\u001b[0;32m     49\u001b[0m         \u001b[1;32mif\u001b[0m \u001b[0mclose\u001b[0m \u001b[1;32mand\u001b[0m \u001b[0mGcf\u001b[0m\u001b[1;33m.\u001b[0m\u001b[0mget_all_fig_managers\u001b[0m\u001b[1;33m(\u001b[0m\u001b[1;33m)\u001b[0m\u001b[1;33m:\u001b[0m\u001b[1;33m\u001b[0m\u001b[1;33m\u001b[0m\u001b[0m\n\u001b[1;32m---> 50\u001b[1;33m             \u001b[0mmatplotlib\u001b[0m\u001b[1;33m.\u001b[0m\u001b[0mpyplot\u001b[0m\u001b[1;33m.\u001b[0m\u001b[0mclose\u001b[0m\u001b[1;33m(\u001b[0m\u001b[1;34m'all'\u001b[0m\u001b[1;33m)\u001b[0m\u001b[1;33m\u001b[0m\u001b[1;33m\u001b[0m\u001b[0m\n\u001b[0m\u001b[0;32m     51\u001b[0m \u001b[1;33m\u001b[0m\u001b[0m\n\u001b[0;32m     52\u001b[0m \u001b[1;33m\u001b[0m\u001b[0m\n",
            "\u001b[1;31mAttributeError\u001b[0m: module 'matplotlib' has no attribute 'pyplot'"
          ]
        }
      ],
      "source": [
        "one_minus_mae_train = [1-maee for maee in history.history['mae']]\n",
        "one_minus_mae_val = [1-maee for maee in history.history['val_mae']]"
      ]
    },
    {
      "cell_type": "code",
      "execution_count": null,
      "metadata": {
        "id": "hH5XoijNEryI",
        "outputId": "888be20e-01c5-4dfb-c7ed-5aadbef870b1"
      },
      "outputs": [
        {
          "data": {
            "text/plain": [
              "<matplotlib.legend.Legend at 0x2ebb78c8e80>"
            ]
          },
          "execution_count": 33,
          "metadata": {},
          "output_type": "execute_result"
        },
        {
          "data": {
            "image/png": "[encoded data removed]",
            "text/plain": [
              "<Figure size 648x288 with 1 Axes>"
            ]
          },
          "metadata": {
            "needs_background": "light"
          },
          "output_type": "display_data"
        },
        {
          "data": {
            "image/png": "[encoded data removed]",
            "text/plain": [
              "<Figure size 648x288 with 1 Axes>"
            ]
          },
          "metadata": {
            "needs_background": "light"
          },
          "output_type": "display_data"
        },
        {
          "ename": "AttributeError",
          "evalue": "module 'matplotlib' has no attribute 'pyplot'",
          "output_type": "error",
          "traceback": [
            "\u001b[1;31m---------------------------------------------------------------------------\u001b[0m",
            "\u001b[1;31mAttributeError\u001b[0m                            Traceback (most recent call last)",
            "\u001b[1;32mc:\\users\\piyush\\appdata\\local\\programs\\python\\python39\\lib\\site-packages\\matplotlib_inline\\backend_inline.py\u001b[0m in \u001b[0;36mshow\u001b[1;34m(close, block)\u001b[0m\n\u001b[0;32m     48\u001b[0m         \u001b[1;31m# close triggers gc.collect, which can be slow\u001b[0m\u001b[1;33m\u001b[0m\u001b[1;33m\u001b[0m\u001b[1;33m\u001b[0m\u001b[0m\n\u001b[0;32m     49\u001b[0m         \u001b[1;32mif\u001b[0m \u001b[0mclose\u001b[0m \u001b[1;32mand\u001b[0m \u001b[0mGcf\u001b[0m\u001b[1;33m.\u001b[0m\u001b[0mget_all_fig_managers\u001b[0m\u001b[1;33m(\u001b[0m\u001b[1;33m)\u001b[0m\u001b[1;33m:\u001b[0m\u001b[1;33m\u001b[0m\u001b[1;33m\u001b[0m\u001b[0m\n\u001b[1;32m---> 50\u001b[1;33m             \u001b[0mmatplotlib\u001b[0m\u001b[1;33m.\u001b[0m\u001b[0mpyplot\u001b[0m\u001b[1;33m.\u001b[0m\u001b[0mclose\u001b[0m\u001b[1;33m(\u001b[0m\u001b[1;34m'all'\u001b[0m\u001b[1;33m)\u001b[0m\u001b[1;33m\u001b[0m\u001b[1;33m\u001b[0m\u001b[0m\n\u001b[0m\u001b[0;32m     51\u001b[0m \u001b[1;33m\u001b[0m\u001b[0m\n\u001b[0;32m     52\u001b[0m \u001b[1;33m\u001b[0m\u001b[0m\n",
            "\u001b[1;31mAttributeError\u001b[0m: module 'matplotlib' has no attribute 'pyplot'"
          ]
        }
      ],
      "source": [
        "plt.figure(figsize=(9,4))\n",
        "\n",
        "plt.subplot(1,2,1)\n",
        "plt.plot(one_minus_mae_train)\n",
        "plt.plot(one_minus_mae_val)\n",
        "plt.title('Model 1-MAE')\n",
        "plt.ylabel('1-MAE')\n",
        "plt.xlabel('Epoch')\n",
        "plt.legend(['Train 1-MAE', 'Validation 1-MAE'], loc='lower right')"
      ]
    },
    {
      "cell_type": "markdown",
      "metadata": {
        "id": "-tCveE9HEryI"
      },
      "source": [
        "### Coefficient of determination (R^2)"
      ]
    },
    {
      "cell_type": "code",
      "execution_count": null,
      "metadata": {
        "id": "AnSGtjBAEryI",
        "outputId": "9fef0109-ce0a-49e1-a445-d0388acc0c52"
      },
      "outputs": [
        {
          "data": {
            "image/png": "[encoded data removed]",
            "text/plain": [
              "<Figure size 648x288 with 1 Axes>"
            ]
          },
          "metadata": {
            "needs_background": "light"
          },
          "output_type": "display_data"
        },
        {
          "data": {
            "image/png": "[encoded data removed]",
            "text/plain": [
              "<Figure size 648x288 with 1 Axes>"
            ]
          },
          "metadata": {
            "needs_background": "light"
          },
          "output_type": "display_data"
        },
        {
          "ename": "AttributeError",
          "evalue": "module 'matplotlib' has no attribute 'pyplot'",
          "output_type": "error",
          "traceback": [
            "\u001b[1;31m---------------------------------------------------------------------------\u001b[0m",
            "\u001b[1;31mAttributeError\u001b[0m                            Traceback (most recent call last)",
            "\u001b[1;32mc:\\users\\piyush\\appdata\\local\\programs\\python\\python39\\lib\\site-packages\\matplotlib_inline\\backend_inline.py\u001b[0m in \u001b[0;36mshow\u001b[1;34m(close, block)\u001b[0m\n\u001b[0;32m     48\u001b[0m         \u001b[1;31m# close triggers gc.collect, which can be slow\u001b[0m\u001b[1;33m\u001b[0m\u001b[1;33m\u001b[0m\u001b[1;33m\u001b[0m\u001b[0m\n\u001b[0;32m     49\u001b[0m         \u001b[1;32mif\u001b[0m \u001b[0mclose\u001b[0m \u001b[1;32mand\u001b[0m \u001b[0mGcf\u001b[0m\u001b[1;33m.\u001b[0m\u001b[0mget_all_fig_managers\u001b[0m\u001b[1;33m(\u001b[0m\u001b[1;33m)\u001b[0m\u001b[1;33m:\u001b[0m\u001b[1;33m\u001b[0m\u001b[1;33m\u001b[0m\u001b[0m\n\u001b[1;32m---> 50\u001b[1;33m             \u001b[0mmatplotlib\u001b[0m\u001b[1;33m.\u001b[0m\u001b[0mpyplot\u001b[0m\u001b[1;33m.\u001b[0m\u001b[0mclose\u001b[0m\u001b[1;33m(\u001b[0m\u001b[1;34m'all'\u001b[0m\u001b[1;33m)\u001b[0m\u001b[1;33m\u001b[0m\u001b[1;33m\u001b[0m\u001b[0m\n\u001b[0m\u001b[0;32m     51\u001b[0m \u001b[1;33m\u001b[0m\u001b[0m\n\u001b[0;32m     52\u001b[0m \u001b[1;33m\u001b[0m\u001b[0m\n",
            "\u001b[1;31mAttributeError\u001b[0m: module 'matplotlib' has no attribute 'pyplot'"
          ]
        }
      ],
      "source": [
        "y_pred = combined_network.predict([test_input[0],test_input[1]])\n",
        "pred_shape = y_pred.shape\n",
        "y_pred = y_pred.reshape(pred_shape[0],pred_shape[1],1)"
      ]
    },
    {
      "cell_type": "code",
      "execution_count": null,
      "metadata": {
        "id": "NL8rSb1hEryJ",
        "outputId": "1c1ddba4-2ce1-4821-8c25-720a49e3047c"
      },
      "outputs": [
        {
          "data": {
            "image/png": "[encoded data removed]",
            "text/plain": [
              "<Figure size 648x288 with 1 Axes>"
            ]
          },
          "metadata": {
            "needs_background": "light"
          },
          "output_type": "display_data"
        },
        {
          "data": {
            "image/png": "[encoded data removed]",
            "text/plain": [
              "<Figure size 648x288 with 1 Axes>"
            ]
          },
          "metadata": {
            "needs_background": "light"
          },
          "output_type": "display_data"
        },
        {
          "ename": "AttributeError",
          "evalue": "module 'matplotlib' has no attribute 'pyplot'",
          "output_type": "error",
          "traceback": [
            "\u001b[1;31m---------------------------------------------------------------------------\u001b[0m",
            "\u001b[1;31mAttributeError\u001b[0m                            Traceback (most recent call last)",
            "\u001b[1;32mc:\\users\\piyush\\appdata\\local\\programs\\python\\python39\\lib\\site-packages\\matplotlib_inline\\backend_inline.py\u001b[0m in \u001b[0;36mshow\u001b[1;34m(close, block)\u001b[0m\n\u001b[0;32m     48\u001b[0m         \u001b[1;31m# close triggers gc.collect, which can be slow\u001b[0m\u001b[1;33m\u001b[0m\u001b[1;33m\u001b[0m\u001b[1;33m\u001b[0m\u001b[0m\n\u001b[0;32m     49\u001b[0m         \u001b[1;32mif\u001b[0m \u001b[0mclose\u001b[0m \u001b[1;32mand\u001b[0m \u001b[0mGcf\u001b[0m\u001b[1;33m.\u001b[0m\u001b[0mget_all_fig_managers\u001b[0m\u001b[1;33m(\u001b[0m\u001b[1;33m)\u001b[0m\u001b[1;33m:\u001b[0m\u001b[1;33m\u001b[0m\u001b[1;33m\u001b[0m\u001b[0m\n\u001b[1;32m---> 50\u001b[1;33m             \u001b[0mmatplotlib\u001b[0m\u001b[1;33m.\u001b[0m\u001b[0mpyplot\u001b[0m\u001b[1;33m.\u001b[0m\u001b[0mclose\u001b[0m\u001b[1;33m(\u001b[0m\u001b[1;34m'all'\u001b[0m\u001b[1;33m)\u001b[0m\u001b[1;33m\u001b[0m\u001b[1;33m\u001b[0m\u001b[0m\n\u001b[0m\u001b[0;32m     51\u001b[0m \u001b[1;33m\u001b[0m\u001b[0m\n\u001b[0;32m     52\u001b[0m \u001b[1;33m\u001b[0m\u001b[0m\n",
            "\u001b[1;31mAttributeError\u001b[0m: module 'matplotlib' has no attribute 'pyplot'"
          ]
        }
      ],
      "source": [
        "normalized = y_pred / np.max(y_pred)"
      ]
    },
    {
      "cell_type": "code",
      "execution_count": null,
      "metadata": {
        "id": "HURqzQH_EryJ",
        "outputId": "67ca7f7f-46d5-49c8-8c84-c2668e814517"
      },
      "outputs": [
        {
          "data": {
            "text/plain": [
              "Text(0.5, 15.0, 'Y_pred_Neuroticism')"
            ]
          },
          "execution_count": 36,
          "metadata": {},
          "output_type": "execute_result"
        },
        {
          "data": {
            "image/png": "[encoded data removed]",
            "text/plain": [
              "<Figure size 648x288 with 1 Axes>"
            ]
          },
          "metadata": {
            "needs_background": "light"
          },
          "output_type": "display_data"
        },
        {
          "data": {
            "image/png": "[encoded data removed]",
            "text/plain": [
              "<Figure size 648x288 with 1 Axes>"
            ]
          },
          "metadata": {
            "needs_background": "light"
          },
          "output_type": "display_data"
        },
        {
          "ename": "AttributeError",
          "evalue": "module 'matplotlib' has no attribute 'pyplot'",
          "output_type": "error",
          "traceback": [
            "\u001b[1;31m---------------------------------------------------------------------------\u001b[0m",
            "\u001b[1;31mAttributeError\u001b[0m                            Traceback (most recent call last)",
            "\u001b[1;32mc:\\users\\piyush\\appdata\\local\\programs\\python\\python39\\lib\\site-packages\\matplotlib_inline\\backend_inline.py\u001b[0m in \u001b[0;36mshow\u001b[1;34m(close, block)\u001b[0m\n\u001b[0;32m     48\u001b[0m         \u001b[1;31m# close triggers gc.collect, which can be slow\u001b[0m\u001b[1;33m\u001b[0m\u001b[1;33m\u001b[0m\u001b[1;33m\u001b[0m\u001b[0m\n\u001b[0;32m     49\u001b[0m         \u001b[1;32mif\u001b[0m \u001b[0mclose\u001b[0m \u001b[1;32mand\u001b[0m \u001b[0mGcf\u001b[0m\u001b[1;33m.\u001b[0m\u001b[0mget_all_fig_managers\u001b[0m\u001b[1;33m(\u001b[0m\u001b[1;33m)\u001b[0m\u001b[1;33m:\u001b[0m\u001b[1;33m\u001b[0m\u001b[1;33m\u001b[0m\u001b[0m\n\u001b[1;32m---> 50\u001b[1;33m             \u001b[0mmatplotlib\u001b[0m\u001b[1;33m.\u001b[0m\u001b[0mpyplot\u001b[0m\u001b[1;33m.\u001b[0m\u001b[0mclose\u001b[0m\u001b[1;33m(\u001b[0m\u001b[1;34m'all'\u001b[0m\u001b[1;33m)\u001b[0m\u001b[1;33m\u001b[0m\u001b[1;33m\u001b[0m\u001b[0m\n\u001b[0m\u001b[0;32m     51\u001b[0m \u001b[1;33m\u001b[0m\u001b[0m\n\u001b[0;32m     52\u001b[0m \u001b[1;33m\u001b[0m\u001b[0m\n",
            "\u001b[1;31mAttributeError\u001b[0m: module 'matplotlib' has no attribute 'pyplot'"
          ]
        }
      ],
      "source": [
        "plt.scatter(test_input[2][:,0,:], normalized[:,0,:], marker='o');\n",
        "plt.ylabel('Y_Neuroticism')\n",
        "plt.xlabel('Y_pred_Neuroticism')"
      ]
    },
    {
      "cell_type": "markdown",
      "metadata": {
        "id": "axHvu0WhEryJ"
      },
      "source": [
        "#### Coefficient Determination (R^2)"
      ]
    },
    {
      "cell_type": "code",
      "execution_count": null,
      "metadata": {
        "id": "Vy1ZrQpuEryJ",
        "outputId": "fd5dbf51-4335-4d7e-c557-945f911eea00"
      },
      "outputs": [
        {
          "data": {
            "image/png": "[encoded data removed]",
            "text/plain": [
              "<Figure size 648x288 with 1 Axes>"
            ]
          },
          "metadata": {
            "needs_background": "light"
          },
          "output_type": "display_data"
        },
        {
          "data": {
            "image/png": "[encoded data removed]",
            "text/plain": [
              "<Figure size 648x288 with 1 Axes>"
            ]
          },
          "metadata": {
            "needs_background": "light"
          },
          "output_type": "display_data"
        },
        {
          "ename": "AttributeError",
          "evalue": "module 'matplotlib' has no attribute 'pyplot'",
          "output_type": "error",
          "traceback": [
            "\u001b[1;31m---------------------------------------------------------------------------\u001b[0m",
            "\u001b[1;31mAttributeError\u001b[0m                            Traceback (most recent call last)",
            "\u001b[1;32mc:\\users\\piyush\\appdata\\local\\programs\\python\\python39\\lib\\site-packages\\matplotlib_inline\\backend_inline.py\u001b[0m in \u001b[0;36mshow\u001b[1;34m(close, block)\u001b[0m\n\u001b[0;32m     48\u001b[0m         \u001b[1;31m# close triggers gc.collect, which can be slow\u001b[0m\u001b[1;33m\u001b[0m\u001b[1;33m\u001b[0m\u001b[1;33m\u001b[0m\u001b[0m\n\u001b[0;32m     49\u001b[0m         \u001b[1;32mif\u001b[0m \u001b[0mclose\u001b[0m \u001b[1;32mand\u001b[0m \u001b[0mGcf\u001b[0m\u001b[1;33m.\u001b[0m\u001b[0mget_all_fig_managers\u001b[0m\u001b[1;33m(\u001b[0m\u001b[1;33m)\u001b[0m\u001b[1;33m:\u001b[0m\u001b[1;33m\u001b[0m\u001b[1;33m\u001b[0m\u001b[0m\n\u001b[1;32m---> 50\u001b[1;33m             \u001b[0mmatplotlib\u001b[0m\u001b[1;33m.\u001b[0m\u001b[0mpyplot\u001b[0m\u001b[1;33m.\u001b[0m\u001b[0mclose\u001b[0m\u001b[1;33m(\u001b[0m\u001b[1;34m'all'\u001b[0m\u001b[1;33m)\u001b[0m\u001b[1;33m\u001b[0m\u001b[1;33m\u001b[0m\u001b[0m\n\u001b[0m\u001b[0;32m     51\u001b[0m \u001b[1;33m\u001b[0m\u001b[0m\n\u001b[0;32m     52\u001b[0m \u001b[1;33m\u001b[0m\u001b[0m\n",
            "\u001b[1;31mAttributeError\u001b[0m: module 'matplotlib' has no attribute 'pyplot'"
          ]
        }
      ],
      "source": [
        "from sklearn.metrics import r2_score"
      ]
    },
    {
      "cell_type": "code",
      "execution_count": null,
      "metadata": {
        "id": "MWZbJJ-ZEryK",
        "outputId": "a1fd49c7-02c0-4592-9cce-c2e00c32e4b4"
      },
      "outputs": [
        {
          "name": "stdout",
          "output_type": "stream",
          "text": [
            "Neuroticism: -3.8234510556867445\n",
            "Extraversion: -2.4760892504821643\n",
            "Agreeableness: -5.771892193546708\n",
            "Conscientiousness: -2.827624456345406\n",
            "Openness: -10.036215801536407\n"
          ]
        },
        {
          "data": {
            "image/png": "[encoded data removed]",
            "text/plain": [
              "<Figure size 648x288 with 1 Axes>"
            ]
          },
          "metadata": {
            "needs_background": "light"
          },
          "output_type": "display_data"
        },
        {
          "data": {
            "image/png": "[encoded data removed]",
            "text/plain": [
              "<Figure size 648x288 with 1 Axes>"
            ]
          },
          "metadata": {
            "needs_background": "light"
          },
          "output_type": "display_data"
        },
        {
          "ename": "AttributeError",
          "evalue": "module 'matplotlib' has no attribute 'pyplot'",
          "output_type": "error",
          "traceback": [
            "\u001b[1;31m---------------------------------------------------------------------------\u001b[0m",
            "\u001b[1;31mAttributeError\u001b[0m                            Traceback (most recent call last)",
            "\u001b[1;32mc:\\users\\piyush\\appdata\\local\\programs\\python\\python39\\lib\\site-packages\\matplotlib_inline\\backend_inline.py\u001b[0m in \u001b[0;36mshow\u001b[1;34m(close, block)\u001b[0m\n\u001b[0;32m     48\u001b[0m         \u001b[1;31m# close triggers gc.collect, which can be slow\u001b[0m\u001b[1;33m\u001b[0m\u001b[1;33m\u001b[0m\u001b[1;33m\u001b[0m\u001b[0m\n\u001b[0;32m     49\u001b[0m         \u001b[1;32mif\u001b[0m \u001b[0mclose\u001b[0m \u001b[1;32mand\u001b[0m \u001b[0mGcf\u001b[0m\u001b[1;33m.\u001b[0m\u001b[0mget_all_fig_managers\u001b[0m\u001b[1;33m(\u001b[0m\u001b[1;33m)\u001b[0m\u001b[1;33m:\u001b[0m\u001b[1;33m\u001b[0m\u001b[1;33m\u001b[0m\u001b[0m\n\u001b[1;32m---> 50\u001b[1;33m             \u001b[0mmatplotlib\u001b[0m\u001b[1;33m.\u001b[0m\u001b[0mpyplot\u001b[0m\u001b[1;33m.\u001b[0m\u001b[0mclose\u001b[0m\u001b[1;33m(\u001b[0m\u001b[1;34m'all'\u001b[0m\u001b[1;33m)\u001b[0m\u001b[1;33m\u001b[0m\u001b[1;33m\u001b[0m\u001b[0m\n\u001b[0m\u001b[0;32m     51\u001b[0m \u001b[1;33m\u001b[0m\u001b[0m\n\u001b[0;32m     52\u001b[0m \u001b[1;33m\u001b[0m\u001b[0m\n",
            "\u001b[1;31mAttributeError\u001b[0m: module 'matplotlib' has no attribute 'pyplot'"
          ]
        }
      ],
      "source": [
        "pers = ['Neuroticism','Extraversion','Agreeableness','Conscientiousness','Openness']\n",
        "r2s = [r2_score(test_input[2][:,i,:], normalized[:,i,:]) for i in range(5)]\n",
        "for pers, r2 in zip(pers,r2s):\n",
        "    print(pers + ': ' + str(r2))"
      ]
    },
    {
      "cell_type": "code",
      "execution_count": null,
      "metadata": {
        "id": "jRGsbp6FEryK"
      },
      "outputs": [],
      "source": []
    }
  ],
  "metadata": {
    "kernelspec": {
      "display_name": "Python 3 (ipykernel)",
      "language": "python",
      "name": "python3"
    },
    "language_info": {
      "codemirror_mode": {
        "name": "ipython",
        "version": 3
      },
      "file_extension": ".py",
      "mimetype": "text/x-python",
      "name": "python",
      "nbconvert_exporter": "python",
      "pygments_lexer": "ipython3",
      "version": "3.9.6"
    },
    "colab": {
      "provenance": []
    }
  },
  "nbformat": 4,
  "nbformat_minor": 0
}